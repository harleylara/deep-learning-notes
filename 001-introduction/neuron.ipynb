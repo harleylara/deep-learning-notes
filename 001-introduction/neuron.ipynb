{
 "cells": [
  {
   "cell_type": "markdown",
   "id": "8c334b62-759a-4b4d-a0d8-f24ee798ba72",
   "metadata": {},
   "source": [
    "# McCulloch and Pitts Neuron\n",
    "\n",
    "Publication: [A logical calculus of the ideas immanent in nervous activity](https://www.cs.cmu.edu/~./epxing/Class/10715/reading/McCulloch.and.Pitts.pdf)"
   ]
  },
  {
   "cell_type": "code",
   "execution_count": 2,
   "id": "f40d0c38-3dc5-4d90-addf-23ed8c8c91fc",
   "metadata": {
    "jupyter": {
     "source_hidden": true
    },
    "tags": []
   },
   "outputs": [],
   "source": [
    "import numpy as np\n",
    "\n",
    "class LogicNeuron:\n",
    "    @classmethod\n",
    "    def AND(self, *args):\n",
    "        return np.prod(np.array(args), axis=0)\n",
    "    \n",
    "    @classmethod\n",
    "    def NOT(self, input):\n",
    "        return abs(np.array(input) - 1)\n",
    "    \n",
    "    @classmethod\n",
    "    def NAND(self, *args):\n",
    "        return self.NOT(self.AND(*args))\n",
    "    \n",
    "    @classmethod\n",
    "    def OR(self, *args):\n",
    "        return self.NAND(*self.NOT(args))\n",
    "    \n",
    "    @staticmethod\n",
    "    def prettify(inputs, output):\n",
    "        for index, input in enumerate(inputs):\n",
    "            print(f\"| Input {index}: {input} |\")\n",
    "        print(f\"| Output : {output} |\")"
   ]
  },
  {
   "cell_type": "code",
   "execution_count": 349,
   "id": "05fe595e-9d00-43d4-81fe-6302d926c2f7",
   "metadata": {},
   "outputs": [
    {
     "name": "stdout",
     "output_type": "stream",
     "text": [
      "Testing AND Operator\n",
      "| Input 0: [1 0 1 0 1] |\n",
      "| Input 1: [1 1 0 0 1] |\n",
      "| Input 2: [1 1 0 0 0] |\n",
      "| Output : [1 0 0 0 0] |\n"
     ]
    }
   ],
   "source": [
    "a = np.array([1, 0, 1, 0, 1])\n",
    "b = np.array([1, 1, 0, 0, 1])\n",
    "c = np.array([1, 1, 0, 0, 0])\n",
    "\n",
    "print(\"Testing AND Operator\")\n",
    "result_and = LogicNeuron.AND(a, b, c)\n",
    "LogicNeuron.prettify([a, b, c], result_and)"
   ]
  },
  {
   "cell_type": "code",
   "execution_count": 350,
   "id": "20ad66f2-4e21-4c09-a505-238383da9a1a",
   "metadata": {},
   "outputs": [
    {
     "name": "stdout",
     "output_type": "stream",
     "text": [
      "Testing NOT Operator\n",
      "| Input 0: [1 0 0 0 0] |\n",
      "| Output : [0 1 1 1 1] |\n"
     ]
    }
   ],
   "source": [
    "print(\"Testing NOT Operator\")\n",
    "result_not = LogicNeuron.NOT(result_and)\n",
    "LogicNeuron.prettify([result_and], result_not)"
   ]
  },
  {
   "cell_type": "code",
   "execution_count": 351,
   "id": "98943b55-1b67-4a8d-a6a9-acb10282f0e7",
   "metadata": {},
   "outputs": [
    {
     "name": "stdout",
     "output_type": "stream",
     "text": [
      "Testing NAND Operator\n",
      "| Input 0: [1 0 1 0 1] |\n",
      "| Input 1: [1 1 0 0 1] |\n",
      "| Input 2: [1 1 0 0 0] |\n",
      "| Output : [0 1 1 1 1] |\n"
     ]
    }
   ],
   "source": [
    "print(\"Testing NAND Operator\")\n",
    "result_nand = LogicNeuron.NAND(a, b, c)\n",
    "LogicNeuron.prettify([a, b, c], result_nand)"
   ]
  },
  {
   "cell_type": "code",
   "execution_count": 352,
   "id": "78e9c7f8-5ccc-4058-b610-7c836417e91e",
   "metadata": {},
   "outputs": [
    {
     "name": "stdout",
     "output_type": "stream",
     "text": [
      "Testing OR Operator\n",
      "| Input 0: [1 0 1 0 1] |\n",
      "| Input 1: [1 1 0 0 1] |\n",
      "| Input 2: [1 1 0 0 0] |\n",
      "| Output : [1 1 1 0 1] |\n"
     ]
    }
   ],
   "source": [
    "print(\"Testing OR Operator\")\n",
    "result_or = LogicNeuron.OR(a, b, c)\n",
    "LogicNeuron.prettify([a, b, c], result_or)"
   ]
  },
  {
   "cell_type": "markdown",
   "id": "d00e66ba",
   "metadata": {},
   "source": [
    "<center>\n",
    "    <img src=\"./assets/logic-gates.svg\"/>\n",
    "    <br>\n",
    "    <i>Description here. (Source: Source here)</i>\n",
    "</center>"
   ]
  },
  {
   "cell_type": "code",
   "execution_count": 353,
   "id": "c7d7bfa5",
   "metadata": {},
   "outputs": [
    {
     "name": "stdout",
     "output_type": "stream",
     "text": [
      "Bit x1: \t1\n",
      "Bit x2: \t1\n",
      "Output bit: \t1\n",
      "Carry bit: \t1\n"
     ]
    }
   ],
   "source": [
    "def bitwise_sum(a: int, b: int):\n",
    "    n = LogicNeuron()\n",
    "    nand_1 = n.NAND(x1, x2)\n",
    "    nand_2 = n.NAND(x1, nand_1)\n",
    "    nand_3 = n.NAND(nand_2, x2)\n",
    "    output = n.NAND(nand_2, nand_3)\n",
    "    carry_bit = n.NAND(nand_1, nand_1)\n",
    "    return output, carry_bit\n",
    "\n",
    "x1 = 1\n",
    "x2 = 1\n",
    "sum_result, carry_bit = bitwise_sum(x1, x2) \n",
    "\n",
    "print(f\"Bit x1: \\t{x1}\")\n",
    "print(f\"Bit x2: \\t{x2}\")\n",
    "print(f\"Output bit: \\t{sum_result}\")\n",
    "print(f\"Carry bit: \\t{carry_bit}\")"
   ]
  },
  {
   "cell_type": "markdown",
   "id": "e8209c79-d1bb-4b01-85c5-ea74f5e52920",
   "metadata": {},
   "source": [
    "# The Perceptron (Frank Rosenblatt)\n",
    "\n",
    "Frank Rosenblatt [The Perceptron (publication)](https://citeseerx.ist.psu.edu/viewdoc/download?doi=10.1.1.335.3398&rep=rep1&type=pdf)"
   ]
  },
  {
   "cell_type": "code",
   "execution_count": 5,
   "id": "a28d3c9b-5b0f-4308-b079-2c9bcad991e3",
   "metadata": {},
   "outputs": [],
   "source": [
    "from numpy import random\n",
    "\n",
    "def unit_step(input, value=1) -> int:\n",
    "    \"\"\" Also known as Heaviside step function\n",
    "    \n",
    "    TODO: Handle cases where the input is an array\n",
    "    \"\"\"\n",
    "    return np.heaviside(input, value) # numpy version\n",
    "    if (input < 0):\n",
    "        return 0\n",
    "    elif (input == 0):\n",
    "        return 0\n",
    "    else:\n",
    "        return 1\n",
    "\n",
    "class Perceptron:\n",
    "    \n",
    "    def __init__(self, n_inputs: int) -> None:\n",
    "        \"\"\"\n",
    "        TODO: implement fit\n",
    "        \"\"\"\n",
    "        # random.seed(0)  # uncomment for consistent outputs\n",
    "        self.n_inputs = n_inputs\n",
    "        self.B = 0 # set bias term to zero\n",
    "        self.W = random.randn(n_inputs) # Weights initialization\n",
    "        self.output = None\n",
    "\n",
    "    def forward(self, X: np.array) -> float:\n",
    "        self.X = X\n",
    "        self.W_sum = self.__weights_sum(self.X, self.W)\n",
    "        self.output = self.__act_function()\n",
    "        return self.output\n",
    "\n",
    "    def __weights_sum(self, X: np.array, W: np.array) -> np.ndarray:\n",
    "        return np.sum(np.transpose(X) * W + self.B)\n",
    "    \n",
    "    def __act_function(self) -> float:\n",
    "        return unit_step(self.W_sum, 1)"
   ]
  },
  {
   "cell_type": "markdown",
   "id": "e30c61aa",
   "metadata": {},
   "source": [
    "## Perceptron Implemented as NAND"
   ]
  },
  {
   "cell_type": "markdown",
   "id": "fe14a43c",
   "metadata": {},
   "source": [
    "<center>\n",
    "    <img src=\"./assets/perceptron-nand.svg\"/>\n",
    "    <br>\n",
    "</center>"
   ]
  },
  {
   "cell_type": "code",
   "execution_count": 374,
   "id": "5116b410",
   "metadata": {},
   "outputs": [
    {
     "name": "stdout",
     "output_type": "stream",
     "text": [
      "Input x1: \t0\n",
      "Input x2: \t0\n",
      "Output (NAND): 1.0\n"
     ]
    }
   ],
   "source": [
    "# Perceptron implemented as NAND\n",
    "NAND_per = Perceptron(2) # init perceptron with 2 inputs\n",
    "NAND_per.W = np.array([-2, -2]) # set all weights to -2\n",
    "\n",
    "# Create a set of two bit for testing\n",
    "x1 = 0\n",
    "x2 = 0\n",
    "input = np.array([x1, x2])\n",
    "\n",
    "# Feed forward the Perceptron\n",
    "output = NAND_per.forward(input)\n",
    "\n",
    "# Print results\n",
    "print(f\"Input x1: \\t{x1}\")\n",
    "print(f\"Input x2: \\t{x2}\")\n",
    "print(f\"Output (NAND): {output}\")"
   ]
  },
  {
   "cell_type": "markdown",
   "id": "c387f112",
   "metadata": {},
   "source": [
    "<center>\n",
    "    <img src=\"./assets/perceptron-bitwise-sum.svg\"/>\n",
    "    <br>\n",
    "    <i>Description here. (Source: Source here)</i>\n",
    "</center>"
   ]
  },
  {
   "cell_type": "code",
   "execution_count": 104,
   "id": "f815dbda-2eed-475d-93cd-c1c584aa908c",
   "metadata": {},
   "outputs": [
    {
     "name": "stdout",
     "output_type": "stream",
     "text": [
      "Input values: \t[ 0.01851177 -0.63415234 -0.39185155  1.72117958]\n",
      "Weights: \t[ 0.55643757 -1.12232679 -0.29831045 -1.57783788]\n",
      "Bias: \t\t0\n",
      "Weights Sum: \t-1.876822126354988\n",
      "Output: \t0.0\n"
     ]
    }
   ],
   "source": [
    "N_INPUTS = 4\n",
    "X = random.randn(N_INPUTS)\n",
    "myPerceptron = Perceptron(N_INPUTS)\n",
    "y_hat = myPerceptron.forward(X)\n",
    "\n",
    "print(f\"Input values: \\t{X}\")\n",
    "print(f\"Weights: \\t{myPerceptron.W}\")\n",
    "print(f\"Bias: \\t\\t{myPerceptron.B}\")\n",
    "print(f\"Weights Sum: \\t{myPerceptron.W_sum}\")\n",
    "print(f\"Output: \\t{y_hat}\")"
   ]
  },
  {
   "cell_type": "code",
   "execution_count": 189,
   "id": "6834b5cd-3007-4aca-ad23-612088e46de2",
   "metadata": {},
   "outputs": [
    {
     "name": "stdout",
     "output_type": "stream",
     "text": [
      "[<__main__.Perceptron object at 0x0000029533836C80>\n",
      " <__main__.Perceptron object at 0x0000029533837A90>]\n",
      "Bias: \t\t[0 0]\n",
      "Weights: \t[[-0.60183389 -0.45824963 -0.39333882 -0.51303872]\n",
      " [-0.42913903 -0.60364052 -0.9095941  -1.197419  ]]\n",
      "Outputs: \t[1. 1.]\n"
     ]
    }
   ],
   "source": [
    "class Dense(object):\n",
    "    def __init__(self, n_inputs, units=2):\n",
    "        \"\"\"\n",
    "        \"\"\"\n",
    "        self.n_inputs = n_inputs\n",
    "        self.X = X\n",
    "        self.units = units\n",
    "        self.perceptrons = np.array(self.__init_perceptrons())\n",
    "        self.B = np.array(self.__init_biases())\n",
    "        self.W = np.array(self.__init_weights())\n",
    "        self.outputs = None\n",
    "\n",
    "    def __init_biases(self) -> np.array:\n",
    "        B = []\n",
    "        for index in range(self.units):\n",
    "            B.append(self.perceptrons[index].B)\n",
    "        return B\n",
    "\n",
    "    def forward(self, X: np.array) -> np.array:\n",
    "        out = []\n",
    "        for index in range(self.units):\n",
    "            out.append(self.perceptrons[index].forward(X))\n",
    "        self.outputs = np.array(out)\n",
    "        return self.outputs\n",
    "    \n",
    "    def __init_perceptrons(self):\n",
    "        perceptrons = []\n",
    "        for _ in range(self.units):\n",
    "            perceptrons.append(Perceptron(self.n_inputs))\n",
    "        return perceptrons\n",
    "    \n",
    "    def __init_weights(self):\n",
    "        W = []\n",
    "        for index in range(self.units):\n",
    "            W.append(self.perceptrons[index].W)\n",
    "        return W\n",
    "\n",
    "n_inputs = 4\n",
    "X = random.randn(n_inputs)\n",
    "layer = Dense(n_inputs, units=2)\n",
    "print(layer.perceptrons)\n",
    "print(f\"Bias: \\t\\t{layer.B}\")\n",
    "print(f\"Weights: \\t{layer.W}\")\n",
    "print(f\"Outputs: \\t{layer.forward(X)}\")"
   ]
  },
  {
   "cell_type": "code",
   "execution_count": 1,
   "id": "3d2c578b",
   "metadata": {},
   "outputs": [
    {
     "name": "stdout",
     "output_type": "stream",
     "text": [
      "Perceptron classification accuracy 0.0\n"
     ]
    },
    {
     "data": {
      "image/png": "[encoded data removed]",
      "text/plain": [
       "<Figure size 640x480 with 1 Axes>"
      ]
     },
     "metadata": {},
     "output_type": "display_data"
    }
   ],
   "source": [
    "# Implementing a dense layer\n",
    "\n",
    "from turtle import update\n",
    "import numpy as np\n",
    "\n",
    "def unit_step(x):\n",
    "    return np.where(x>0, 1, 0)\n",
    "\n",
    "class DenseLayer:\n",
    "\n",
    "    def __init__(self, learning_rate=0.001, n_iter=1000) -> None:\n",
    "        self.eta = learning_rate\n",
    "        self.n_iter = n_iter\n",
    "        self.weights = None\n",
    "        self.bias = None\n",
    "\n",
    "    def fit(self, X, y):\n",
    "        n_samples, n_features = X.shape\n",
    "\n",
    "        # init weights\n",
    "        self.weights = np.random.randn(n_features)\n",
    "        self.bias = 0\n",
    "\n",
    "        y_ = unit_step(y)\n",
    "\n",
    "        for _ in range (self.n_iter):\n",
    "            for index, x_i in enumerate(X):\n",
    "                linear_out = np.dot(x_i, self.weights) + self.bias\n",
    "                y_hat = unit_step(linear_out)\n",
    "\n",
    "                update = self.eta * (y_[index] - y_hat)\n",
    "                self.weights += update * x_i\n",
    "                self.bias += update\n",
    "\n",
    "    def predict(self, X):\n",
    "        linear_out = np.dot(X, self.weights) + self.bias\n",
    "        y_hat = unit_step(linear_out)\n",
    "\n",
    "\n",
    "# Imports\n",
    "import matplotlib.pyplot as plt\n",
    "from sklearn.model_selection import train_test_split\n",
    "from sklearn import datasets\n",
    "\n",
    "def accuracy(y_true, y_pred):\n",
    "    accuracy = np.sum(y_true == y_pred) / len(y_true)\n",
    "    return accuracy\n",
    "\n",
    "X, y = datasets.make_blobs(\n",
    "    n_samples=150, n_features=2, centers=2, cluster_std=1.05, random_state=2\n",
    ")\n",
    "X_train, X_test, y_train, y_test = train_test_split(\n",
    "    X, y, test_size=0.2, random_state=123\n",
    ")\n",
    "\n",
    "p = DenseLayer(learning_rate=0.01, n_iter=1000)\n",
    "p.fit(X_train, y_train)\n",
    "predictions = p.predict(X_test)\n",
    "\n",
    "print(\"Perceptron classification accuracy\", accuracy(y_test, predictions))\n",
    "\n",
    "fig = plt.figure()\n",
    "ax = fig.add_subplot(1, 1, 1)\n",
    "plt.scatter(X_train[:, 0], X_train[:, 1], marker=\"o\", c=y_train)\n",
    "\n",
    "x0_1 = np.amin(X_train[:, 0])\n",
    "x0_2 = np.amax(X_train[:, 0])\n",
    "\n",
    "x1_1 = (-p.weights[0] * x0_1 - p.bias) / p.weights[1]\n",
    "x1_2 = (-p.weights[0] * x0_2 - p.bias) / p.weights[1]\n",
    "\n",
    "ax.plot([x0_1, x0_2], [x1_1, x1_2], \"k\")\n",
    "\n",
    "ymin = np.amin(X_train[:, 1])\n",
    "ymax = np.amax(X_train[:, 1])\n",
    "ax.set_ylim([ymin - 3, ymax + 3])\n",
    "\n",
    "plt.show()"
   ]
  }
 ],
 "metadata": {
  "kernelspec": {
   "display_name": "Python 3 (ipykernel)",
   "language": "python",
   "name": "python3"
  },
  "language_info": {
   "codemirror_mode": {
    "name": "ipython",
    "version": 3
   },
   "file_extension": ".py",
   "mimetype": "text/x-python",
   "name": "python",
   "nbconvert_exporter": "python",
   "pygments_lexer": "ipython3",
   "version": "3.10.6"
  },
  "vscode": {
   "interpreter": {
    "hash": "1f243215d09b30f6843f4ce625b660ecf1c598aaa7b2bcc386cf7fbf322ed4a2"
   }
  }
 },
 "nbformat": 4,
 "nbformat_minor": 5
}
