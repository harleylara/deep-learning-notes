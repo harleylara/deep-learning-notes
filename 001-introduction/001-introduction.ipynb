{
 "cells": [
  {
   "cell_type": "code",
   "execution_count": 4,
   "metadata": {},
   "outputs": [
    {
     "data": {
      "text/latex": [
       "\\input{commands.tex}\n",
       "\n",
       "% Bold symbol definition\n",
       "$\n",
       "\\newcommand{\\bm}[1]{{\\boldsymbol #1}}\n",
       "$\n",
       "\n",
       "% Vectors\n",
       "$\n",
       "\\def\\vzero{{\\bm{0}}}\n",
       "\\def\\vone{{\\bm{1}}}\n",
       "\\def\\vmu{{\\bm{\\mu}}}\n",
       "\\def\\vtheta{{\\bm{\\theta}}}\n",
       "\\newcommand{\\v}[1]{{\\bm{#1}}}\n",
       "$\n",
       "\n",
       "% Elements of vectors\n",
       "$\n",
       "\\def\\evalpha{{\\alpha}}\n",
       "\\def\\evbeta{{\\beta}}\n",
       "\\def\\evepsilon{{\\epsilon}}\n",
       "\\def\\evlambda{{\\lambda}}\n",
       "\\def\\evomega{{\\omega}}\n",
       "\\def\\evmu{{\\mu}}\n",
       "\\def\\evpsi{{\\psi}}\n",
       "\\def\\evsigma{{\\sigma}}\n",
       "\\def\\evtheta{{\\theta}}\n",
       "\\def\\eva{{a}}\n",
       "\\def\\evb{{b}}\n",
       "\\def\\evc{{c}}\n",
       "\\def\\evd{{d}}\n",
       "\\def\\eve{{e}}\n",
       "\\def\\evf{{f}}\n",
       "\\def\\evg{{g}}\n",
       "\\def\\evh{{h}}\n",
       "\\def\\evi{{i}}\n",
       "\\def\\evj{{j}}\n",
       "\\def\\evk{{k}}\n",
       "\\def\\evl{{l}}\n",
       "\\def\\evm{{m}}\n",
       "\\def\\evn{{n}}\n",
       "\\def\\evo{{o}}\n",
       "\\def\\evp{{p}}\n",
       "\\def\\evq{{q}}\n",
       "\\def\\evr{{r}}\n",
       "\\def\\evs{{s}}\n",
       "\\def\\evt{{t}}\n",
       "\\def\\evu{{u}}\n",
       "\\def\\evv{{v}}\n",
       "\\def\\evw{{w}}\n",
       "\\def\\evx{{x}}\n",
       "\\def\\evy{{y}}\n",
       "\\def\\evz{{z}}\n",
       "$\n",
       "\n",
       "% Matrix\n",
       "$\n",
       "\\def\\mBeta{{\\bm{\\beta}}}\n",
       "\\def\\mPhi{{\\bm{\\Phi}}}\n",
       "\\def\\mLambda{{\\bm{\\Lambda}}}\n",
       "\\def\\mSigma{{\\bm{\\Sigma}}}\n",
       "\\newcommand{\\m}[1]{{\\bm{#1}}}\n",
       "$"
      ],
      "text/plain": [
       "<IPython.core.display.Latex object>"
      ]
     },
     "execution_count": 4,
     "metadata": {},
     "output_type": "execute_result"
    }
   ],
   "source": [
    "from IPython.display import Latex\n",
    "Latex(filename=\"../notation/notation.tex\")"
   ]
  },
  {
   "cell_type": "markdown",
   "metadata": {},
   "source": [
    "# Introduction to Deep Learning"
   ]
  },
  {
   "cell_type": "code",
   "execution_count": 5,
   "metadata": {
    "tags": []
   },
   "outputs": [],
   "source": [
    "import tensorflow as tf\n",
    "import numpy as np\n",
    "import pandas as pd\n",
    "import matplotlib.pyplot as plt\n",
    "import os\n",
    "os.environ[\"KMP_DUPLICATE_LIB_OK\"]=\"TRUE\""
   ]
  },
  {
   "cell_type": "markdown",
   "metadata": {
    "tags": []
   },
   "source": [
    "## Deep Learning\n",
    "\n",
    "<center><img src=\"./assets/deep-learning.svg\"></center>"
   ]
  },
  {
   "cell_type": "markdown",
   "metadata": {},
   "source": [
    "## The Perceptron (Forward Propagation)\n",
    "\n",
    "The fundamental building block of deep learning\n",
    "\n",
    "<center><img src='./assets/simple_perceptron.svg'></center>\n",
    "\n",
    "$$\n",
    "\\hat{y} = g \\left(\\sum_{i=1}^{m} x_{i}w_{i} \\right)\n",
    "$$\n",
    "\n",
    "<center><img src='./assets/perceptron.svg'></center>\n",
    "\n",
    "\n",
    "$$\n",
    "\\hat{y} = g \\left( w_0 + \\sum_{i=1}^{m} x_{i}w_{i} \\right)\n",
    "$$\n",
    "\n",
    "linear algebra version:\n",
    "\n",
    "$$\n",
    "\\hat{y} = g ( w_{0} + \\mathbf{X}^{T} \\mathbf{W} )\n",
    "$$\n",
    "\n",
    "Where:  \n",
    "$$\n",
    "\\mathbf{X} = \\begin{bmatrix}\n",
    "x_1 \\\\\n",
    "\\vdots \\\\\n",
    "x_m\n",
    "\\end{bmatrix}\n",
    "$$\n",
    "\n",
    "and\n",
    "$$\n",
    "\\mathbf{W} = \\begin{bmatrix}\n",
    "w_1 \\\\\n",
    "\\vdots \\\\\n",
    "w_m\n",
    "\\end{bmatrix}\n",
    "$$\n",
    "\n",
    "$g$ represents the activation function"
   ]
  },
  {
   "cell_type": "markdown",
   "metadata": {},
   "source": [
    "## Common activation function\n",
    "\n",
    "**Sigmoid Function**\n",
    "\n",
    "\n",
    "$$ g(z) = \\frac{1}{1+e^{-z}} $$\n",
    "\n",
    "$$ g'(z) = g(z)(1-g(z)) $$\n",
    "\n",
    "```python\n",
    "tf.math.sigmoid(z)\n",
    "```"
   ]
  },
  {
   "cell_type": "code",
   "execution_count": 6,
   "metadata": {
    "tags": []
   },
   "outputs": [
    {
     "data": {
      "image/png": "[encoded data removed]",
      "text/plain": [
       "<Figure size 432x288 with 1 Axes>"
      ]
     },
     "metadata": {
      "needs_background": "light"
     },
     "output_type": "display_data"
    }
   ],
   "source": [
    "z = np.linspace(-5, 5, num=100)\n",
    "sig = tf.math.sigmoid(z)\n",
    "sig_prime = sig * (1 - sig)\n",
    "\n",
    "plt.plot(z, sig, label=\"g(z)\")\n",
    "plt.plot(z, sig_prime, label=\"g'(z)\")\n",
    "plt.legend(prop={'size' : 16})\n",
    "plt.show()"
   ]
  },
  {
   "cell_type": "markdown",
   "metadata": {},
   "source": [
    "**Hyperbolic Tangent**\n",
    "\n",
    "$$ g(z) = \\frac{e^z - e^{-z}}{e^z + e^{z}} $$\n",
    "\n",
    "$$ g'(z) = 1 - g(z)^2 $$\n",
    "\n",
    "```python\n",
    "tf.math.tanh(z)\n",
    "```"
   ]
  },
  {
   "cell_type": "code",
   "execution_count": 7,
   "metadata": {
    "tags": []
   },
   "outputs": [
    {
     "data": {
      "image/png": "[encoded data removed]",
      "text/plain": [
       "<Figure size 432x288 with 1 Axes>"
      ]
     },
     "metadata": {
      "needs_background": "light"
     },
     "output_type": "display_data"
    }
   ],
   "source": [
    "z = np.linspace(-5, 5, num=100)\n",
    "tan = tf.math.tanh(z)\n",
    "tan_prime = 1 - tan**2\n",
    "\n",
    "plt.plot(z, tan, label=\"g(z)\")\n",
    "plt.plot(z, tan_prime, label=\"g'(z)\")\n",
    "plt.legend(prop={'size' : 16})\n",
    "plt.show()"
   ]
  },
  {
   "cell_type": "markdown",
   "metadata": {},
   "source": [
    "**Rectified Linear Unit (ReLU)**\n",
    "\n",
    "$$g(z) = max(0,z)$$\n",
    "\n",
    "$$g'(z) = \\left\\{\\begin{matrix}\n",
    "1,  z >0 \\\\\n",
    "0, otherwise\n",
    "\\end{matrix}\\right.\n",
    "$$\n",
    "\n",
    "```python\n",
    "tf.math.relu(z)\n",
    "```"
   ]
  },
  {
   "cell_type": "code",
   "execution_count": 8,
   "metadata": {
    "tags": []
   },
   "outputs": [
    {
     "data": {
      "image/png": "[encoded data removed]",
      "text/plain": [
       "<Figure size 432x288 with 1 Axes>"
      ]
     },
     "metadata": {
      "needs_background": "light"
     },
     "output_type": "display_data"
    }
   ],
   "source": [
    "z = np.linspace(-5, 5, num=100)\n",
    "relu = tf.nn.relu(z)\n",
    "relu_prime = z > 0\n",
    "\n",
    "plt.plot(z, relu, label=\"g(z)\")\n",
    "plt.plot(z, relu_prime, label=\"g'(z)\")\n",
    "plt.legend(prop={'size' : 16})\n",
    "plt.show()"
   ]
  },
  {
   "cell_type": "markdown",
   "metadata": {},
   "source": [
    "## Importance of activation function\n",
    "\n",
    "Introduce non-linearity in the network\n",
    "\n",
    "<center><img src=\"./assets/activation-function.svg\"></center>"
   ]
  },
  {
   "cell_type": "markdown",
   "metadata": {},
   "source": [
    "## The Perceptron (Simplified)\n",
    "\n",
    "$$ z = w_0 + \\sum^{m}_{j=1} x_j w_{j}$$ \n",
    "$$ \\hat{y} = g(z)$$\n",
    "\n",
    "<center><img src=\"./assets/simplified-perceptron.svg\"></center>"
   ]
  },
  {
   "cell_type": "markdown",
   "metadata": {},
   "source": [
    "## Multi Output Perceptron\n",
    "\n",
    "\n",
    "$$ z_i = w_{0,i} + \\sum^{m}_{j=1} x_j w_{j,i}$$ \n",
    "$$ \\hat{y}_i = g(z_i)$$\n",
    "\n",
    "\n",
    "<center><img src=\"./assets/multi-output-perceptron.svg\"></center>"
   ]
  },
  {
   "cell_type": "markdown",
   "metadata": {},
   "source": [
    "## Dense Layer\n",
    "\n",
    "Also called **Fully connected layers**\n",
    "\n",
    "From scratch using tensorflow:\n",
    "```python\n",
    "class MyDenseLayer(tf.keras.layers.Layer)\n",
    "\tdef __init__(self, input_dim, output_dim):\n",
    "\t\tsuper(MyDenseLayer, self).__init__()\n",
    "\t\t\n",
    "\t\t# Initialize weights and bias\n",
    "\t\tself.W = self.add_weight([input_dim, output_dim])\n",
    "\t\tself.b = self.add_weight([1, output_dim])\n",
    "\t\n",
    "\tdef call(self, inputs):\n",
    "\t\t# Forward propagate the inputs\n",
    "\t\tz = tf.matmul(inputs, self.W) + self.b\n",
    "\t\t\n",
    "\t\t# Feed Through a non-linear activation\n",
    "\t\toutput = tf.math.sigmoid(z)\n",
    "\t\t\n",
    "\t\treturn output\n",
    "\t\t\n",
    "```\n",
    "\n",
    "Simplified version using tensorflow:\n",
    "\n",
    "```python\n",
    "import tensorflow as tf\n",
    "\n",
    "layer = tf.keras.layers.Dense(units=2)\n",
    "```\n"
   ]
  },
  {
   "cell_type": "markdown",
   "metadata": {},
   "source": [
    "## Single Layer Neural Network\n",
    "\n",
    "<center><img src=\"./assets/single-layer-neural-network.svg\"></center>\n",
    "\n",
    "Also represented like:\n",
    "\n",
    "<center><img src=\"./assets/simplified-single-layer-neural-network.svg\"></center>"
   ]
  },
  {
   "cell_type": "markdown",
   "metadata": {},
   "source": [
    "## Multi Output Perceptron\n",
    "\n",
    "Is very simple create a model, it's just need to keep adding layers to our model\n",
    "\n",
    "```python\n",
    "\n",
    "model = tf.keras.Sequential([\n",
    "\ttf.keras.layers.Dense(n),\n",
    "\ttf.keras.layers.Dense(2)\n",
    "])\n",
    "\n",
    "```\n",
    "\n",
    "\n",
    "**Deep Neural network**\n",
    "\n",
    "```python\n",
    "\n",
    "model = tf.keras.Sequential([\n",
    "\ttf.keras.layers.Dense(n1),\n",
    "\ttf.keras.layers.Dense(n2)\n",
    "\t...\n",
    "\t...\n",
    "\ttf.keras.layers.Dense(2)\n",
    "])\n",
    "\n",
    "```\n"
   ]
  },
  {
   "cell_type": "markdown",
   "metadata": {},
   "source": [
    "## Quantifying Loss\n",
    "\n",
    "The **loss** measure the cost incurred from incorrect predictions\n",
    "\n",
    "$$\n",
    "\\mathcal{L}(f(x^{(i)};\\mathbf{W}), y^{(i)})\n",
    "$$\n",
    "\n",
    "$$\n",
    "\\mathcal{L}(\\hat{y}^{(i)}, y^{(i)})\n",
    "$$"
   ]
  },
  {
   "cell_type": "markdown",
   "metadata": {},
   "source": [
    "## Empirical Loss\n",
    "\n",
    "**Also known as:**\n",
    "- Objective function\n",
    "- Cost function\n",
    "- Empirical risk\n",
    "\n",
    "$$\n",
    "\\mathbf{J}(\\mathbf{W}) = \\frac{1}{n} \\sum^{n}_{i=1} \\mathcal{L}(f(x^{(i)};\\mathbf{W}), y^{(i)})\n",
    "$$\n",
    "\n",
    "$$\n",
    "\\mathbf{J}(\\mathbf{W}) = \\frac{1}{n} \\sum^{n}_{i=1} \\mathcal{L}(\\hat{y}^{(i)}, y^{(i)})\n",
    "$$"
   ]
  },
  {
   "cell_type": "markdown",
   "metadata": {},
   "source": [
    "## Binary Cross Entropy Loss\n",
    "\n",
    "**Cross entropy loss** can be used with models that output a probability between 0 and 1\n",
    "\n",
    "Binary output\n",
    "\n",
    "$$\n",
    "\\mathbf{J}(\\mathbf{W}) = -\\frac{1}{n} \\sum^{n}_{i=1} y^{(i)} log(f(x^{(i)};\\mathbf{W})) + (1 - y^{(i)})log(1-f(x^{(i)};\\mathbf{W}))\n",
    "$$\n",
    "\n",
    "```python\n",
    "loss = tf.reduce_mean(tf.nn.softmax_cross_entroy_with_logits(y, predicted))\n",
    "```"
   ]
  },
  {
   "cell_type": "markdown",
   "metadata": {},
   "source": [
    "## Mean Squared Error Loss\n",
    "\n",
    "**Mean squared error loss** can be used with regression models that output continuous real numbers\n",
    "\n",
    "$$\n",
    "\\mathbf{J}(\\mathbf{W}) = \\frac{1}{n} \\sum^{n}_{i=1} (y^{(i)} - f(x^{(i)};\\mathbf{W}))^2\n",
    "$$\n",
    "\n",
    "```python\n",
    "loss = tf.reduce_mean(tf-square(tf-subtract(y, predicted)))\n",
    "loss = tf.keras.losses.MSE(y, predicted)\n",
    "```"
   ]
  },
  {
   "cell_type": "markdown",
   "metadata": {},
   "source": [
    "## Loss Optimization\n",
    "\n",
    "We want to find the network weights that achieve the lowest loss\n",
    "\n",
    "$$\n",
    "\\mathbf{W^*} = \\underset{\\mathbf{W}}{argmin} \\frac{1}{n} \\sum^{n}_{i=1} \\mathcal{L}(f(x^{(i)};\\mathbf{W}), y^{(i)})\n",
    "$$\n",
    "\n",
    "$$\n",
    "\\mathbf{W^*} = \\underset{\\mathbf{W}}{argmin} J(\\mathbf{W})\n",
    "$$\n",
    "\n",
    "Where,\n",
    "\n",
    "$$\n",
    "\\mathbf{W} = \\{\\mathbf{W^{0}}, \\mathbf{W^{1}}, \\cdots\\}\n",
    "$$\n",
    "\n",
    "1. Pick a random point.\n",
    "\n",
    "2. Compute gradient, $\\frac{\\partial J(\\mathbf{W})}{\\partial\\mathbf{W}}$\n",
    "\n",
    "3. Take small step in opposite direction of gradient\n",
    "\n",
    "4. Repeat until converge"
   ]
  },
  {
   "cell_type": "markdown",
   "metadata": {},
   "source": [
    "## Gradient Descent\n",
    "\n",
    "**Algorithm**\n",
    "1. Initialize weights randomly $\\thicksim \\mathcal{N}(0, \\sigma^{2})$\n",
    "2. Loop until convergence:\n",
    "    3. Compute gradient $\\frac{\\partial J(\\mathbf{W})}{\\partial\\mathbf{W}}$\n",
    "    4. Update weights, $\\mathbf{W} \\leftarrow \\mathbf{W} - \\eta \\frac{\\partial J(\\mathbf{W})}{\\partial\\mathbf{W}}$ \n",
    "5. Return weights\n",
    "\n",
    "```python\n",
    "import tensorflow as tf\n",
    "\n",
    "weights = tf.Variable([tf.random.normal()])\n",
    "\n",
    "while True:\n",
    "    with tf.GradientTape() as g:\n",
    "        lass = compute_loss(weights)\n",
    "        gradient = g.gradient(loss, weights)\n",
    "    weights = weights - lr * gradient\n",
    "```"
   ]
  },
  {
   "cell_type": "markdown",
   "metadata": {},
   "source": [
    "## Compute Gradients: Backpropagation\n",
    "\n",
    "<center><img src=\"./assets/backpropagation.svg\"></center>\n",
    "\n",
    "Appy chain rule:\n",
    "\n",
    "$$\n",
    "\\frac{\\partial J(\\mathbf{W})}{\\partial w_2} = \\frac{\\partial J(\\mathbf{W})}{\\partial \\hat{y}} * \\frac{\\partial \\hat{y}}{\\partial w_2}\n",
    "$$\n",
    "\n",
    "$$\n",
    "\\frac{\\partial J(\\mathbf{W})}{\\partial w_1} = \\frac{\\partial J(\\mathbf{W})}{\\partial \\hat{y}} * \\frac{\\partial \\hat{y}}{\\partial z_1} * \\frac{\\partial z_1}{\\partial w_1}\n",
    "$$"
   ]
  },
  {
   "cell_type": "markdown",
   "metadata": {},
   "source": [
    "## Training neural\n",
    "\n",
    "<center><img src=\"./assets/loss-landscape.png\"  width=\"500\" height=\"500\"></center>\n",
    "\n",
    "*Resource*: [Loss Landscape](https://losslandscape.com/)"
   ]
  },
  {
   "cell_type": "markdown",
   "metadata": {},
   "source": [
    "## Loss Functions Optimization\n",
    "\n",
    "$$\n",
    "\\mathbf{W} \\leftarrow \\mathbf{W} - \\eta \\frac{\\partial J(\\mathbf{W})}{\\partial\\mathbf{W}}\n",
    "$$"
   ]
  },
  {
   "cell_type": "markdown",
   "metadata": {},
   "source": [
    "## Adaptative Learning Rates\n",
    "\n",
    "- Learning rates are no longer fixed\n",
    "- Can be made larger or smaller depending on:\n",
    "    - How large the gradient is\n",
    "    - How fast learning is happening\n",
    "    - size of particular weights\n",
    "    - etc..."
   ]
  },
  {
   "cell_type": "markdown",
   "metadata": {},
   "source": [
    "## Gradient Descent Algorithms\n",
    "\n",
    "- SGD\n",
    "- Adam\n",
    "- Adadelta\n",
    "- Adagrad\n",
    "- RMSProp\n",
    "\n",
    "Aditional info [here](https://www.tensorflow.org/api_docs/python/tf/keras/optimizers)"
   ]
  },
  {
   "cell_type": "markdown",
   "metadata": {},
   "source": [
    "## Overfitting\n",
    "\n",
    "<center><img src=\"./assets/overfitting.svg\"></center>"
   ]
  },
  {
   "cell_type": "markdown",
   "metadata": {},
   "source": [
    "## Regularization\n",
    "\n",
    "Technique that constrains our optimization problem to discourage complex models"
   ]
  },
  {
   "cell_type": "markdown",
   "metadata": {},
   "source": [
    "### Dropout\n",
    "\n",
    "- During training, randomly set some activations to 0\n",
    "    - Typically \"drop\" 50% of activations in layer\n",
    "    - Force network to not rely on specific data\n",
    "    \n",
    "```python\n",
    "tf.keras.layers.Dropout(p=0.5)\n",
    "```\n",
    "\n",
    "<center><img src=\"./assets/dropout.svg\"></center>"
   ]
  },
  {
   "cell_type": "markdown",
   "metadata": {},
   "source": [
    "### Early Stopping\n",
    "\n",
    "Stop training before we have a chance to overfit\n",
    "\n",
    "<center><img src=\"./assets/early-stopping.svg\"></center>"
   ]
  },
  {
   "cell_type": "markdown",
   "metadata": {},
   "source": [
    "## Practical Example\n",
    "\n",
    "With the `mnist` dataset which is included in `keras.datasets` we will implement the previous concepts. The `mnist` dataset is a collection of handwritten digits, consisting of 60,000 examples, and a test set of 10,000."
   ]
  },
  {
   "cell_type": "code",
   "execution_count": 9,
   "metadata": {},
   "outputs": [],
   "source": [
    "from tensorflow.keras.datasets import mnist"
   ]
  },
  {
   "cell_type": "code",
   "execution_count": 10,
   "metadata": {},
   "outputs": [],
   "source": [
    "# the data, split between train and validation sets\n",
    "(x_train, y_train), (x_valid, y_valid) = mnist.load_data()"
   ]
  },
  {
   "cell_type": "markdown",
   "metadata": {},
   "source": [
    "### Exploring the dataset"
   ]
  },
  {
   "cell_type": "code",
   "execution_count": 11,
   "metadata": {},
   "outputs": [
    {
     "data": {
      "text/plain": [
       "(60000, 28, 28)"
      ]
     },
     "execution_count": 11,
     "metadata": {},
     "output_type": "execute_result"
    }
   ],
   "source": [
    "x_train.shape"
   ]
  },
  {
   "cell_type": "code",
   "execution_count": 12,
   "metadata": {},
   "outputs": [
    {
     "data": {
      "text/plain": [
       "(10000, 28, 28)"
      ]
     },
     "execution_count": 12,
     "metadata": {},
     "output_type": "execute_result"
    }
   ],
   "source": [
    "x_valid.shape"
   ]
  },
  {
   "cell_type": "code",
   "execution_count": 13,
   "metadata": {},
   "outputs": [
    {
     "data": {
      "text/plain": [
       "dtype('uint8')"
      ]
     },
     "execution_count": 13,
     "metadata": {},
     "output_type": "execute_result"
    }
   ],
   "source": [
    "x_train.dtype"
   ]
  },
  {
   "cell_type": "code",
   "execution_count": 14,
   "metadata": {},
   "outputs": [
    {
     "data": {
      "text/plain": [
       "0"
      ]
     },
     "execution_count": 14,
     "metadata": {},
     "output_type": "execute_result"
    }
   ],
   "source": [
    "x_train.min()"
   ]
  },
  {
   "cell_type": "code",
   "execution_count": 15,
   "metadata": {},
   "outputs": [
    {
     "data": {
      "text/plain": [
       "255"
      ]
     },
     "execution_count": 15,
     "metadata": {},
     "output_type": "execute_result"
    }
   ],
   "source": [
    "x_train.max()"
   ]
  },
  {
   "cell_type": "code",
   "execution_count": 16,
   "metadata": {
    "tags": []
   },
   "outputs": [
    {
     "data": {
      "text/plain": [
       "array([[  0,   0,   0,   0,   0,   0,   0,   0,   0,   0,   0,   0,   0,\n",
       "          0,   0,   0,   0,   0,   0,   0,   0,   0,   0,   0,   0,   0,\n",
       "          0,   0],\n",
       "       [  0,   0,   0,   0,   0,   0,   0,   0,   0,   0,   0,   0,   0,\n",
       "          0,   0,   0,   0,   0,   0,   0,   0,   0,   0,   0,   0,   0,\n",
       "          0,   0],\n",
       "       [  0,   0,   0,   0,   0,   0,   0,   0,   0,   0,   0,   0,   0,\n",
       "          0,   0,   0,   0,   0,   0,   0,   0,   0,   0,   0,   0,   0,\n",
       "          0,   0],\n",
       "       [  0,   0,   0,   0,   0,   0,   0,   0,   0,   0,   0,   0,   0,\n",
       "          0,   0,   0,   0,   0,   0,   0,   0,   0,   0,   0,   0,   0,\n",
       "          0,   0],\n",
       "       [  0,   0,   0,   0,   0,   0,   0,   0,   0,   0,   0,   0,   0,\n",
       "          0,   0,   0,   0,   0,   0,   0,   0,   0,   0,   0,   0,   0,\n",
       "          0,   0],\n",
       "       [  0,   0,   0,   0,   0,   0,   0,   0,   0,   0,   0,   0,   3,\n",
       "         18,  18,  18, 126, 136, 175,  26, 166, 255, 247, 127,   0,   0,\n",
       "          0,   0],\n",
       "       [  0,   0,   0,   0,   0,   0,   0,   0,  30,  36,  94, 154, 170,\n",
       "        253, 253, 253, 253, 253, 225, 172, 253, 242, 195,  64,   0,   0,\n",
       "          0,   0],\n",
       "       [  0,   0,   0,   0,   0,   0,   0,  49, 238, 253, 253, 253, 253,\n",
       "        253, 253, 253, 253, 251,  93,  82,  82,  56,  39,   0,   0,   0,\n",
       "          0,   0],\n",
       "       [  0,   0,   0,   0,   0,   0,   0,  18, 219, 253, 253, 253, 253,\n",
       "        253, 198, 182, 247, 241,   0,   0,   0,   0,   0,   0,   0,   0,\n",
       "          0,   0],\n",
       "       [  0,   0,   0,   0,   0,   0,   0,   0,  80, 156, 107, 253, 253,\n",
       "        205,  11,   0,  43, 154,   0,   0,   0,   0,   0,   0,   0,   0,\n",
       "          0,   0],\n",
       "       [  0,   0,   0,   0,   0,   0,   0,   0,   0,  14,   1, 154, 253,\n",
       "         90,   0,   0,   0,   0,   0,   0,   0,   0,   0,   0,   0,   0,\n",
       "          0,   0],\n",
       "       [  0,   0,   0,   0,   0,   0,   0,   0,   0,   0,   0, 139, 253,\n",
       "        190,   2,   0,   0,   0,   0,   0,   0,   0,   0,   0,   0,   0,\n",
       "          0,   0],\n",
       "       [  0,   0,   0,   0,   0,   0,   0,   0,   0,   0,   0,  11, 190,\n",
       "        253,  70,   0,   0,   0,   0,   0,   0,   0,   0,   0,   0,   0,\n",
       "          0,   0],\n",
       "       [  0,   0,   0,   0,   0,   0,   0,   0,   0,   0,   0,   0,  35,\n",
       "        241, 225, 160, 108,   1,   0,   0,   0,   0,   0,   0,   0,   0,\n",
       "          0,   0],\n",
       "       [  0,   0,   0,   0,   0,   0,   0,   0,   0,   0,   0,   0,   0,\n",
       "         81, 240, 253, 253, 119,  25,   0,   0,   0,   0,   0,   0,   0,\n",
       "          0,   0],\n",
       "       [  0,   0,   0,   0,   0,   0,   0,   0,   0,   0,   0,   0,   0,\n",
       "          0,  45, 186, 253, 253, 150,  27,   0,   0,   0,   0,   0,   0,\n",
       "          0,   0],\n",
       "       [  0,   0,   0,   0,   0,   0,   0,   0,   0,   0,   0,   0,   0,\n",
       "          0,   0,  16,  93, 252, 253, 187,   0,   0,   0,   0,   0,   0,\n",
       "          0,   0],\n",
       "       [  0,   0,   0,   0,   0,   0,   0,   0,   0,   0,   0,   0,   0,\n",
       "          0,   0,   0,   0, 249, 253, 249,  64,   0,   0,   0,   0,   0,\n",
       "          0,   0],\n",
       "       [  0,   0,   0,   0,   0,   0,   0,   0,   0,   0,   0,   0,   0,\n",
       "          0,  46, 130, 183, 253, 253, 207,   2,   0,   0,   0,   0,   0,\n",
       "          0,   0],\n",
       "       [  0,   0,   0,   0,   0,   0,   0,   0,   0,   0,   0,   0,  39,\n",
       "        148, 229, 253, 253, 253, 250, 182,   0,   0,   0,   0,   0,   0,\n",
       "          0,   0],\n",
       "       [  0,   0,   0,   0,   0,   0,   0,   0,   0,   0,  24, 114, 221,\n",
       "        253, 253, 253, 253, 201,  78,   0,   0,   0,   0,   0,   0,   0,\n",
       "          0,   0],\n",
       "       [  0,   0,   0,   0,   0,   0,   0,   0,  23,  66, 213, 253, 253,\n",
       "        253, 253, 198,  81,   2,   0,   0,   0,   0,   0,   0,   0,   0,\n",
       "          0,   0],\n",
       "       [  0,   0,   0,   0,   0,   0,  18, 171, 219, 253, 253, 253, 253,\n",
       "        195,  80,   9,   0,   0,   0,   0,   0,   0,   0,   0,   0,   0,\n",
       "          0,   0],\n",
       "       [  0,   0,   0,   0,  55, 172, 226, 253, 253, 253, 253, 244, 133,\n",
       "         11,   0,   0,   0,   0,   0,   0,   0,   0,   0,   0,   0,   0,\n",
       "          0,   0],\n",
       "       [  0,   0,   0,   0, 136, 253, 253, 253, 212, 135, 132,  16,   0,\n",
       "          0,   0,   0,   0,   0,   0,   0,   0,   0,   0,   0,   0,   0,\n",
       "          0,   0],\n",
       "       [  0,   0,   0,   0,   0,   0,   0,   0,   0,   0,   0,   0,   0,\n",
       "          0,   0,   0,   0,   0,   0,   0,   0,   0,   0,   0,   0,   0,\n",
       "          0,   0],\n",
       "       [  0,   0,   0,   0,   0,   0,   0,   0,   0,   0,   0,   0,   0,\n",
       "          0,   0,   0,   0,   0,   0,   0,   0,   0,   0,   0,   0,   0,\n",
       "          0,   0],\n",
       "       [  0,   0,   0,   0,   0,   0,   0,   0,   0,   0,   0,   0,   0,\n",
       "          0,   0,   0,   0,   0,   0,   0,   0,   0,   0,   0,   0,   0,\n",
       "          0,   0]], dtype=uint8)"
      ]
     },
     "execution_count": 16,
     "metadata": {},
     "output_type": "execute_result"
    }
   ],
   "source": [
    "x_train[0]"
   ]
  },
  {
   "cell_type": "code",
   "execution_count": 17,
   "metadata": {},
   "outputs": [
    {
     "data": {
      "text/plain": [
       "<matplotlib.image.AxesImage at 0x240bb1764f0>"
      ]
     },
     "execution_count": 17,
     "metadata": {},
     "output_type": "execute_result"
    },
    {
     "data": {
      "image/png": "[encoded data removed]",
      "text/plain": [
       "<Figure size 432x288 with 1 Axes>"
      ]
     },
     "metadata": {
      "needs_background": "light"
     },
     "output_type": "display_data"
    }
   ],
   "source": [
    "image = x_train[0]\n",
    "plt.imshow(image, cmap='gray')"
   ]
  },
  {
   "cell_type": "code",
   "execution_count": 18,
   "metadata": {},
   "outputs": [
    {
     "data": {
      "text/plain": [
       "5"
      ]
     },
     "execution_count": 18,
     "metadata": {},
     "output_type": "execute_result"
    }
   ],
   "source": [
    "y_train[0]"
   ]
  },
  {
   "cell_type": "code",
   "execution_count": 19,
   "metadata": {},
   "outputs": [
    {
     "data": {
      "text/plain": [
       "28"
      ]
     },
     "execution_count": 19,
     "metadata": {},
     "output_type": "execute_result"
    }
   ],
   "source": [
    "x_train.shape[2]"
   ]
  },
  {
   "cell_type": "markdown",
   "metadata": {},
   "source": [
    "### Flattening"
   ]
  },
  {
   "cell_type": "code",
   "execution_count": 20,
   "metadata": {},
   "outputs": [],
   "source": [
    "x_train_flat = x_train.shape[1] * x_train.shape[2]\n",
    "x_valid_flat = x_valid.shape[1] * x_valid.shape[2]"
   ]
  },
  {
   "cell_type": "code",
   "execution_count": 21,
   "metadata": {},
   "outputs": [
    {
     "data": {
      "text/plain": [
       "784"
      ]
     },
     "execution_count": 21,
     "metadata": {},
     "output_type": "execute_result"
    }
   ],
   "source": [
    "x_train_flat"
   ]
  },
  {
   "cell_type": "code",
   "execution_count": 22,
   "metadata": {},
   "outputs": [],
   "source": [
    "x_train = x_train.reshape(x_train.shape[0], x_train_flat)\n",
    "x_valid = x_valid.reshape(x_valid.shape[0], x_valid_flat)"
   ]
  },
  {
   "cell_type": "code",
   "execution_count": 23,
   "metadata": {},
   "outputs": [
    {
     "data": {
      "text/plain": [
       "array([[0, 0, 0, ..., 0, 0, 0],\n",
       "       [0, 0, 0, ..., 0, 0, 0],\n",
       "       [0, 0, 0, ..., 0, 0, 0],\n",
       "       ...,\n",
       "       [0, 0, 0, ..., 0, 0, 0],\n",
       "       [0, 0, 0, ..., 0, 0, 0],\n",
       "       [0, 0, 0, ..., 0, 0, 0]], dtype=uint8)"
      ]
     },
     "execution_count": 23,
     "metadata": {},
     "output_type": "execute_result"
    }
   ],
   "source": [
    "x_train"
   ]
  },
  {
   "cell_type": "code",
   "execution_count": 24,
   "metadata": {},
   "outputs": [
    {
     "data": {
      "text/plain": [
       "(60000, 784)"
      ]
     },
     "execution_count": 24,
     "metadata": {},
     "output_type": "execute_result"
    }
   ],
   "source": [
    "x_train.shape"
   ]
  },
  {
   "cell_type": "code",
   "execution_count": 25,
   "metadata": {},
   "outputs": [
    {
     "data": {
      "text/plain": [
       "(10000, 784)"
      ]
     },
     "execution_count": 25,
     "metadata": {},
     "output_type": "execute_result"
    }
   ],
   "source": [
    "x_valid.shape"
   ]
  },
  {
   "cell_type": "markdown",
   "metadata": {},
   "source": [
    "### Normalizing"
   ]
  },
  {
   "cell_type": "code",
   "execution_count": 26,
   "metadata": {},
   "outputs": [],
   "source": [
    "x_train = x_train / 255\n",
    "x_valid = x_valid / 255 "
   ]
  },
  {
   "cell_type": "code",
   "execution_count": 27,
   "metadata": {},
   "outputs": [
    {
     "data": {
      "text/plain": [
       "dtype('float64')"
      ]
     },
     "execution_count": 27,
     "metadata": {},
     "output_type": "execute_result"
    }
   ],
   "source": [
    "x_train.dtype"
   ]
  },
  {
   "cell_type": "code",
   "execution_count": 28,
   "metadata": {},
   "outputs": [
    {
     "data": {
      "text/plain": [
       "0.0"
      ]
     },
     "execution_count": 28,
     "metadata": {},
     "output_type": "execute_result"
    }
   ],
   "source": [
    "x_train.min()"
   ]
  },
  {
   "cell_type": "code",
   "execution_count": 29,
   "metadata": {},
   "outputs": [
    {
     "data": {
      "text/plain": [
       "1.0"
      ]
     },
     "execution_count": 29,
     "metadata": {},
     "output_type": "execute_result"
    }
   ],
   "source": [
    "x_train.max()"
   ]
  },
  {
   "cell_type": "markdown",
   "metadata": {},
   "source": [
    "### Categorically Encoding the Labels"
   ]
  },
  {
   "cell_type": "code",
   "execution_count": 30,
   "metadata": {},
   "outputs": [],
   "source": [
    "import tensorflow.keras as keras\n",
    "num_categories = 10\n",
    "\n",
    "y_train = keras.utils.to_categorical(y_train, num_categories)\n",
    "y_valid = keras.utils.to_categorical(y_valid, num_categories)"
   ]
  },
  {
   "cell_type": "markdown",
   "metadata": {},
   "source": [
    "### Creating the Model"
   ]
  },
  {
   "cell_type": "markdown",
   "metadata": {},
   "source": [
    "<center><img src=\"./assets/example-nn.svg\"></center>"
   ]
  },
  {
   "cell_type": "code",
   "execution_count": 31,
   "metadata": {},
   "outputs": [],
   "source": [
    "from tensorflow.keras.models import Sequential\n",
    "from tensorflow.keras.layers import Dense\n",
    "\n",
    "model = Sequential()\n",
    "\n",
    "# Input and initial hidden layer\n",
    "model.add(\n",
    "    Dense(units=512, activation='relu', input_shape=(x_train.shape[1],))\n",
    ")\n",
    "\n",
    "# Second hidden layer\n",
    "model.add(\n",
    "   Dense(units = 512, activation='relu')\n",
    ")\n",
    "\n",
    "# Output\n",
    "model.add(\n",
    "    Dense(units = 10, activation='softmax')\n",
    ")"
   ]
  },
  {
   "cell_type": "code",
   "execution_count": 32,
   "metadata": {},
   "outputs": [
    {
     "data": {
      "text/plain": [
       "5130"
      ]
     },
     "execution_count": 32,
     "metadata": {},
     "output_type": "execute_result"
    }
   ],
   "source": [
    "513*10"
   ]
  },
  {
   "cell_type": "code",
   "execution_count": 33,
   "metadata": {},
   "outputs": [
    {
     "name": "stdout",
     "output_type": "stream",
     "text": [
      "Model: \"sequential\"\n",
      "_________________________________________________________________\n",
      "Layer (type)                 Output Shape              Param #   \n",
      "=================================================================\n",
      "dense (Dense)                (None, 512)               401920    \n",
      "_________________________________________________________________\n",
      "dense_1 (Dense)              (None, 512)               262656    \n",
      "_________________________________________________________________\n",
      "dense_2 (Dense)              (None, 10)                5130      \n",
      "=================================================================\n",
      "Total params: 669,706\n",
      "Trainable params: 669,706\n",
      "Non-trainable params: 0\n",
      "_________________________________________________________________\n"
     ]
    }
   ],
   "source": [
    "model.summary()"
   ]
  },
  {
   "cell_type": "markdown",
   "metadata": {},
   "source": [
    "### Compile the model"
   ]
  },
  {
   "cell_type": "code",
   "execution_count": 34,
   "metadata": {},
   "outputs": [],
   "source": [
    "model.compile(loss='categorical_crossentropy', metrics=['accuracy'])"
   ]
  },
  {
   "cell_type": "markdown",
   "metadata": {},
   "source": [
    "### Test before training"
   ]
  },
  {
   "cell_type": "code",
   "execution_count": 35,
   "metadata": {},
   "outputs": [
    {
     "data": {
      "image/png": "[encoded data removed]",
      "text/plain": [
       "<Figure size 432x288 with 1 Axes>"
      ]
     },
     "metadata": {
      "needs_background": "light"
     },
     "output_type": "display_data"
    },
    {
     "data": {
      "image/png": "[encoded data removed]",
      "text/plain": [
       "<Figure size 432x288 with 1 Axes>"
      ]
     },
     "metadata": {
      "needs_background": "light"
     },
     "output_type": "display_data"
    },
    {
     "data": {
      "image/png": "[encoded data removed]",
      "text/plain": [
       "<Figure size 432x288 with 1 Axes>"
      ]
     },
     "metadata": {
      "needs_background": "light"
     },
     "output_type": "display_data"
    },
    {
     "data": {
      "image/png": "[encoded data removed]",
      "text/plain": [
       "<Figure size 432x288 with 1 Axes>"
      ]
     },
     "metadata": {
      "needs_background": "light"
     },
     "output_type": "display_data"
    }
   ],
   "source": [
    "samples = [0, 25, 50, 115]\n",
    "test_samples = []\n",
    "\n",
    "for sample in samples:\n",
    "  # Generate a plot\n",
    "  reshaped_image = x_valid[sample].reshape((28, 28))\n",
    "  plt.imshow(reshaped_image, cmap='gray')\n",
    "  plt.show()\n",
    "  # Add sample to array for prediction\n",
    "  test_samples.append(x_valid[sample])"
   ]
  },
  {
   "cell_type": "code",
   "execution_count": 36,
   "metadata": {},
   "outputs": [
    {
     "name": "stdout",
     "output_type": "stream",
     "text": [
      "[[0.10931003 0.08362882 0.06854839 0.08444659 0.13644455 0.08230172\n",
      "  0.10069224 0.13220505 0.07490095 0.12752162]\n",
      " [0.10040364 0.10161241 0.08003037 0.08939403 0.09156192 0.06204144\n",
      "  0.13993675 0.11748016 0.07973916 0.13780016]\n",
      " [0.12050498 0.0789782  0.0720442  0.07730035 0.09233092 0.07904257\n",
      "  0.12414426 0.11868807 0.09099343 0.14597303]\n",
      " [0.1249475  0.08294808 0.09974926 0.07577401 0.10272757 0.07870764\n",
      "  0.12286153 0.09533601 0.0872196  0.12972885]]\n"
     ]
    }
   ],
   "source": [
    "test_samples = np.array(test_samples)\n",
    "predictions = model.predict(test_samples)\n",
    "print(predictions)"
   ]
  },
  {
   "cell_type": "code",
   "execution_count": 37,
   "metadata": {},
   "outputs": [
    {
     "name": "stdout",
     "output_type": "stream",
     "text": [
      "Prediction before training\n",
      "[4 6 9 9]\n"
     ]
    }
   ],
   "source": [
    "classes = np.argmax(predictions, axis = 1)\n",
    "print(\"Prediction before training\")\n",
    "print(classes)"
   ]
  },
  {
   "cell_type": "markdown",
   "metadata": {},
   "source": [
    "### Training the model"
   ]
  },
  {
   "cell_type": "code",
   "execution_count": 38,
   "metadata": {},
   "outputs": [
    {
     "name": "stdout",
     "output_type": "stream",
     "text": [
      "Epoch 1/5\n",
      "1875/1875 [==============================] - 7s 3ms/step - loss: 0.1961 - accuracy: 0.9426 - val_loss: 0.1003 - val_accuracy: 0.9720\n",
      "Epoch 2/5\n",
      "1875/1875 [==============================] - 6s 3ms/step - loss: 0.1023 - accuracy: 0.9723 - val_loss: 0.1020 - val_accuracy: 0.9747\n",
      "Epoch 3/5\n",
      "1875/1875 [==============================] - 7s 4ms/step - loss: 0.0844 - accuracy: 0.9801 - val_loss: 0.1052 - val_accuracy: 0.9782\n",
      "Epoch 4/5\n",
      "1875/1875 [==============================] - 7s 4ms/step - loss: 0.0740 - accuracy: 0.9833 - val_loss: 0.1485 - val_accuracy: 0.9721\n",
      "Epoch 5/5\n",
      "1875/1875 [==============================] - 7s 4ms/step - loss: 0.0659 - accuracy: 0.9865 - val_loss: 0.1508 - val_accuracy: 0.9768\n"
     ]
    }
   ],
   "source": [
    "history = model.fit(\n",
    "    x_train, y_train, epochs=5, verbose=1, validation_data=(x_valid, y_valid)\n",
    ")"
   ]
  },
  {
   "cell_type": "markdown",
   "metadata": {},
   "source": [
    "### Test after training"
   ]
  },
  {
   "cell_type": "code",
   "execution_count": 39,
   "metadata": {},
   "outputs": [
    {
     "name": "stdout",
     "output_type": "stream",
     "text": [
      "Prediction after training\n",
      "[7 0 6 4]\n"
     ]
    }
   ],
   "source": [
    "predictions = model.predict(test_samples)\n",
    "classes = np.argmax(predictions, axis = 1)\n",
    "print(\"Prediction after training\")\n",
    "print(classes)"
   ]
  },
  {
   "cell_type": "markdown",
   "metadata": {},
   "source": [
    "## Error"
   ]
  },
  {
   "cell_type": "code",
   "execution_count": 40,
   "metadata": {},
   "outputs": [
    {
     "data": {
      "image/png": "[encoded data removed]",
      "text/plain": [
       "<Figure size 720x720 with 1 Axes>"
      ]
     },
     "metadata": {
      "needs_background": "light"
     },
     "output_type": "display_data"
    }
   ],
   "source": [
    "figure = plt.figure(figsize=(10, 10))\n",
    "plt.title(\"Loss\")\n",
    "plt.plot(history.history['loss'], label='training')\n",
    "plt.plot(history.history['val_loss'], label='validation')\n",
    "plt.xlabel(\"Epoch\")\n",
    "plt.ylabel(\"Error\")\n",
    "plt.legend()\n",
    "plt.show()"
   ]
  },
  {
   "cell_type": "markdown",
   "metadata": {},
   "source": [
    "## Confusion Matrix"
   ]
  },
  {
   "cell_type": "code",
   "execution_count": 41,
   "metadata": {
    "tags": []
   },
   "outputs": [],
   "source": [
    "predictions = model.predict(x_valid)\n",
    "predictions = np.argmax(predictions, axis = 1)\n",
    "\n",
    "validations = np.argmax(y_valid, axis = 1)\n",
    "\n",
    "index = np.argwhere((validations == predictions) == False)"
   ]
  },
  {
   "cell_type": "code",
   "execution_count": 42,
   "metadata": {},
   "outputs": [
    {
     "name": "stdout",
     "output_type": "stream",
     "text": [
      "[[ 973    1    1    0    0    0    2    1    2    0]\n",
      " [   0 1131    2    0    0    0    1    0    1    0]\n",
      " [   3    3 1012    2    1    0    1    4    6    0]\n",
      " [   1    0    5  975    0    6    0    6   11    6]\n",
      " [   1    1    4    0  970    0    2    0    0    4]\n",
      " [   3    0    1   11    2  844   12    1   13    5]\n",
      " [   6    2    0    1    4    1  942    0    2    0]\n",
      " [   3    4   11    0    5    0    0  993    3    9]\n",
      " [   4    2    3    1    4    1    4    2  948    5]\n",
      " [   2    2    0    3   15    1    1    3    2  980]]\n"
     ]
    }
   ],
   "source": [
    "from sklearn.metrics import confusion_matrix\n",
    "from sklearn.metrics import multilabel_confusion_matrix\n",
    "\n",
    "class_names = ['0', '1', '2', '3', '4', '5', '6', '7', '8', '9']\n",
    "data = confusion_matrix(validations, predictions, labels=np.arange(10))\n",
    "print(data)"
   ]
  },
  {
   "cell_type": "code",
   "execution_count": 43,
   "metadata": {},
   "outputs": [],
   "source": [
    "import itertools\n",
    "\n",
    "def plot_confusion_matrix(conf_matrix, class_names):\n",
    "    \n",
    "    figure = plt.figure(figsize=(10, 10))\n",
    "    plt.imshow(conf_matrix, interpolation='nearest', cmap=plt.cm.Blues)\n",
    "    plt.title(\"Confusion matrix\")\n",
    "    plt.colorbar()\n",
    "    tick_marks = np.arange(len(class_names))\n",
    "    plt.xticks(tick_marks, class_names)\n",
    "    plt.yticks(tick_marks, class_names)\n",
    "    \n",
    "    # Use white text if squares are dark; otherwise black.\n",
    "    threshold = conf_matrix.max() / 2.\n",
    "\n",
    "    for i, j in itertools.product(range(conf_matrix.shape[0]), range(conf_matrix.shape[1])):\n",
    "        color = \"white\" if conf_matrix[i, j] > threshold else \"black\"\n",
    "        plt.text(j, i, conf_matrix[i, j], horizontalalignment=\"center\", color=color)\n",
    "        \n",
    "    plt.tight_layout()\n",
    "    plt.ylabel('True label')\n",
    "    plt.xlabel('Predicted label')"
   ]
  },
  {
   "cell_type": "code",
   "execution_count": 44,
   "metadata": {},
   "outputs": [
    {
     "data": {
      "image/png": "[encoded data removed]",
      "text/plain": [
       "<Figure size 720x720 with 2 Axes>"
      ]
     },
     "metadata": {
      "needs_background": "light"
     },
     "output_type": "display_data"
    }
   ],
   "source": [
    "plot_confusion_matrix(data, class_names)"
   ]
  },
  {
   "cell_type": "markdown",
   "metadata": {},
   "source": [
    "## Assignment\n",
    "\n",
    "Create a neural network for [American Sign Language alphabec](http://www.asl.gs/), using this dataset [Sign Language MNIST](https://www.kaggle.com/datamunge/sign-language-mnist) from [kaggle](https://www.kaggle.com/) which has the same format as the MNIST data.\n",
    "\n",
    "**Objetives:**\n",
    "- Explore and prepare image data for training and validation\n",
    "- Create and compile a simple model for image classification\n",
    "- Train an image classification model and observe the results\n",
    "\n",
    "The model specifications are as follows:\n",
    "- Dense input layer. \n",
    "- First hidden layer with **512 neurons** fully connected, use the `relu` activation function.\n",
    "- Second hidden layer with **512 neurons** fully connected, use the `relu` activation function.\n",
    "- Dense output layer with **neurons equal to the number of classes**, using the `softmax` activation function.\n",
    "\n",
    "Use [categorical crossentropy](https://www.tensorflow.org/api_docs/python/tf/keras/losses/CategoricalCrossentropy) to reflect the fact that we want to fit into one of many categories, and measuring the accuracy of our model.\n",
    "\n",
    "> **Note:** Because the dataset is composed of still images it ignores the letters J and Z as these letters contain movement.\n",
    "\n",
    "Training specifications:\n",
    "- Use the model's `fit` method to train it for **20 epochs** using the training and validation images and labels\n",
    "\n",
    "Discussion:\n",
    "- What is observed in the training results and why does it happen?"
   ]
  }
 ],
 "metadata": {
  "kernelspec": {
   "display_name": "Python 3 (ipykernel)",
   "language": "python",
   "name": "python3"
  },
  "language_info": {
   "codemirror_mode": {
    "name": "ipython",
    "version": 3
   },
   "file_extension": ".py",
   "mimetype": "text/x-python",
   "name": "python",
   "nbconvert_exporter": "python",
   "pygments_lexer": "ipython3",
   "version": "3.9.7"
  }
 },
 "nbformat": 4,
 "nbformat_minor": 4
}
